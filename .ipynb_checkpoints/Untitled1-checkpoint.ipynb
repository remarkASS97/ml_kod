{
 "cells": [
  {
   "cell_type": "code",
   "execution_count": 3,
   "metadata": {},
   "outputs": [
    {
     "name": "stdout",
     "output_type": "stream",
     "text": [
      "60\n"
     ]
    }
   ],
   "source": [
    "data = {\n",
    "    \"1\": {\n",
    "        \"1\": 1, \n",
    "        \"2\": 2,\n",
    "    },\n",
    "    \"2\": {\n",
    "        \"1\": 3, \n",
    "        \"2\": 4,\n",
    "    },\n",
    "    \"3\": {\n",
    "        \"1\": 5, \n",
    "        \"2\": 6,\n",
    "    }\n",
    "}\n",
    "\n",
    "df1 = pd.DataFrame(data)\n",
    "df2 = df1\n",
    "df1.iloc[1][2] = 10\n",
    "df2.iloc[1][2] = 5\n",
    "df2[\"3\"] = df2[\"3\"]*2\n",
    "df1[\"3\"] = df1[\"3\"]*3\n",
    "\n",
    "print(df1[\"3\"][\"2\"] + df2[\"3\"][\"2\"])"
   ]
  },
  {
   "cell_type": "code",
   "execution_count": 2,
   "metadata": {},
   "outputs": [],
   "source": [
    "import pandas as pd"
   ]
  },
  {
   "cell_type": "code",
   "execution_count": 4,
   "metadata": {},
   "outputs": [
    {
     "name": "stdout",
     "output_type": "stream",
     "text": [
      "[1, 0, 1, 0]\n"
     ]
    }
   ],
   "source": [
    "def f(a,x = []):\n",
    "    x.append(a)\n",
    "    return x\n",
    "\n",
    "a = f(1)\n",
    "b = f(0)\n",
    "print(a+b)"
   ]
  },
  {
   "cell_type": "code",
   "execution_count": null,
   "metadata": {},
   "outputs": [],
   "source": [
    "import requests\n",
    "from bs4 import BeautifulSoup\n",
    "import time\n",
    "\n",
    "class Currency:\n",
    "DOLLAR_RUB = 'https://www.google.com/search?q=%D0%B4%D0%BE%D0%BB%D0%BB%D0%B0%D1%80+%D0%BA+%D1%80%D1%83%D0%B1%D0%BB%D1%8E&oq=%D0%B4%D0%BE%D0%BB%D0%BB%D0%B0%D1%80+%D0%BA+%D1%80%D1%83%D0%B1%D0%BB%D1%8E&aqs=chrome..69i57j0l7.7785j1j7&sourceid=chrome&ie=UTF-8'\n",
    "headers = {'User-Agent': 'Mozilla/5.0 (Macintosh; Intel Mac OS X 10_15_7) AppleWebKit/537.36 (KHTML, like Gecko) Chrome/85.0.4183.121 Safari/537.36'}\n",
    "\n",
    "    def get_currency_price(self):\n",
    "\n",
    "    def check_currency(self):\n",
    "        full_page = requests.get(DOLLAR_RUB, headers)\n",
    "\n",
    "        soup = BeautifulSoup(full_page.content, 'html.parser')\n",
    "\n",
    "        convert = soup.findAll('span', {'class': 'DFlfde', 'class': 'SwHCTb', 'data-precision': 2})\n",
    "        print('Сейчас курс: 1 доллар = 'convert[0].text)\n",
    "        time.sleep(3)\n",
    "        check_currency()\n"
   ]
  }
 ],
 "metadata": {
  "kernelspec": {
   "display_name": "Python 3",
   "language": "python",
   "name": "python3"
  },
  "language_info": {
   "codemirror_mode": {
    "name": "ipython",
    "version": 3
   },
   "file_extension": ".py",
   "mimetype": "text/x-python",
   "name": "python",
   "nbconvert_exporter": "python",
   "pygments_lexer": "ipython3",
   "version": "3.7.6"
  }
 },
 "nbformat": 4,
 "nbformat_minor": 4
}
