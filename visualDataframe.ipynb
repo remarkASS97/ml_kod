{
 "cells": [
  {
   "cell_type": "code",
   "execution_count": 75,
   "metadata": {},
   "outputs": [],
   "source": [
    "# Визуализация эффекта размера тренировачного набора \n",
    "# требуется оценить эффект влияния количества наблюдений в тренировочном наборе на некоторой \n",
    "# метрический показатель "
   ]
  },
  {
   "cell_type": "code",
   "execution_count": 76,
   "metadata": {},
   "outputs": [],
   "source": [
    "import numpy as np\n",
    "import matplotlib.pyplot as plt\n",
    "from sklearn.ensemble import RandomForestClassifier\n",
    "from sklearn.datasets import load_digits\n",
    "from sklearn.model_selection import learning_curve"
   ]
  },
  {
   "cell_type": "code",
   "execution_count": 77,
   "metadata": {},
   "outputs": [],
   "source": [
    "digits = load_digits()"
   ]
  },
  {
   "cell_type": "code",
   "execution_count": 78,
   "metadata": {},
   "outputs": [],
   "source": [
    "features, target = digits.data, digits.target"
   ]
  },
  {
   "cell_type": "code",
   "execution_count": null,
   "metadata": {},
   "outputs": [],
   "source": [
    "# создать перекрестно-проверочные тренировочные и тестовые оценки для разных размеров данных\n",
    "train_sizes, train_scores, test_scores, test_scores = learning_curve(RandomForestClassifier(),\n",
    "                                                                    features,\n",
    "                                                                    target,\n",
    "                                                                    cv=10,\n",
    "                                                                    scoring='accuracy',\n",
    "                                                                    n_jobs=-1,\n",
    "                                                                    train_sizes=np.linspace(0.01, 1.0, 10))"
   ]
  },
  {
   "cell_type": "code",
   "execution_count": null,
   "metadata": {},
   "outputs": [],
   "source": [
    "# создаем среднее и стандартные отклонения оценок тренироаочного набора и тестового\n",
    "train_mean = np.mean(train_scores, axis=1)\n",
    "train_std = np.std(train_scores, axis=1)\n",
    "test_mean = np.mean(test_scores, axis=1)\n",
    "test_std = np.std(test_scores, axis=1)"
   ]
  },
  {
   "cell_type": "code",
   "execution_count": null,
   "metadata": {},
   "outputs": [],
   "source": [
    "plt.plot(train_sizes, train_mean, '--', color='#111111',\n",
    "        label='Тренировочная оценка')\n",
    "plt.plot(train_sizes, test_mean, color='#111111',\n",
    "        label='Перекрестно-проверочная оценка')\n",
    "\n",
    "plt.fill_between(train_sizes, train_mean - train_std,\n",
    "                train_mean + train_std, color='#DDDDDD')\n",
    "plt.fill_between(train_sizes, train_mean - test_std,\n",
    "                test_mean + test_std, color='#DDDDDD')\n",
    "\n",
    "plt.title('')\n",
    "plt.xlabel('')\n",
    "plt.ylabel('')\n",
    "plt.legend(loc='best')\n",
    "plt.tight_layout()\n",
    "plt.show()"
   ]
  },
  {
   "cell_type": "code",
   "execution_count": null,
   "metadata": {},
   "outputs": [],
   "source": []
  }
 ],
 "metadata": {
  "kernelspec": {
   "display_name": "Python 3",
   "language": "python",
   "name": "python3"
  },
  "language_info": {
   "codemirror_mode": {
    "name": "ipython",
    "version": 3
   },
   "file_extension": ".py",
   "mimetype": "text/x-python",
   "name": "python",
   "nbconvert_exporter": "python",
   "pygments_lexer": "ipython3",
   "version": "3.7.6"
  }
 },
 "nbformat": 4,
 "nbformat_minor": 4
}
